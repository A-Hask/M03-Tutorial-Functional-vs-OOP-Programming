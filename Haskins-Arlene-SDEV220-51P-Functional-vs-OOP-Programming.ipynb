{
 "cells": [
  {
   "cell_type": "code",
   "execution_count": 1,
   "id": "1cfd7285",
   "metadata": {},
   "outputs": [],
   "source": [
    "class Solution:\n",
    "    def sort012(self,arr,n):\n",
    "        arr.sort()"
   ]
  },
  {
   "cell_type": "code",
   "execution_count": 2,
   "id": "d18af5c0",
   "metadata": {},
   "outputs": [],
   "source": [
    "class Solution:\n",
    "    def bin_search(self, arr, left, right, key):\n",
    "        if left > right:\n",
    "            return -1\n",
    "        mid = (left + right) // 2\n",
    "        \n",
    "        if arr[mid] == key:\n",
    "            return mid\n",
    "        elif arr[mid] > key:\n",
    "            return self.bin_search (arr, left, mid - 1, key)\n",
    "        else:\n",
    "            return self.bin_search (arr, mid + 1, right, key)\n",
    "\n",
    "    def binarysearch(self, arr, n, k):\n",
    "        return self.bin_search(arr, 0, n-1, k)"
   ]
  },
  {
   "cell_type": "code",
   "execution_count": null,
   "id": "22b6748a",
   "metadata": {},
   "outputs": [],
   "source": []
  }
 ],
 "metadata": {
  "kernelspec": {
   "display_name": "Python 3 (ipykernel)",
   "language": "python",
   "name": "python3"
  },
  "language_info": {
   "codemirror_mode": {
    "name": "ipython",
    "version": 3
   },
   "file_extension": ".py",
   "mimetype": "text/x-python",
   "name": "python",
   "nbconvert_exporter": "python",
   "pygments_lexer": "ipython3",
   "version": "3.11.5"
  }
 },
 "nbformat": 4,
 "nbformat_minor": 5
}
